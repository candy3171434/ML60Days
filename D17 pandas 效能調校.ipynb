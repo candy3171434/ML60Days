{
 "cells": [
  {
   "cell_type": "code",
   "execution_count": 2,
   "metadata": {},
   "outputs": [
    {
     "data": {
      "text/plain": [
       "'在速度較慢的時候，可以先從哪邊開始檢查？\\n讀取資料型態，選最快的\\n使用內建函式\\n用向量化資料處理'"
      ]
     },
     "execution_count": 2,
     "metadata": {},
     "output_type": "execute_result"
    }
   ],
   "source": [
    "'''在速度較慢的時候，可以先從哪邊開始檢查？\n",
    "讀取資料型態，選最快的\n",
    "使用內建函式\n",
    "用向量化資料處理'''"
   ]
  },
  {
   "cell_type": "code",
   "execution_count": null,
   "metadata": {},
   "outputs": [],
   "source": [
    "'''資料過大時應採取什麼方式讓記憶體占用量下降？\n",
    "將欄位型態降級'''"
   ]
  }
 ],
 "metadata": {
  "kernelspec": {
   "display_name": "Python 3",
   "language": "python",
   "name": "python3"
  },
  "language_info": {
   "codemirror_mode": {
    "name": "ipython",
    "version": 3
   },
   "file_extension": ".py",
   "mimetype": "text/x-python",
   "name": "python",
   "nbconvert_exporter": "python",
   "pygments_lexer": "ipython3",
   "version": "3.8.5"
  }
 },
 "nbformat": 4,
 "nbformat_minor": 4
}
